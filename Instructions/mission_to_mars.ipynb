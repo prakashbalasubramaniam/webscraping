{
 "cells": [
  {
   "cell_type": "code",
   "execution_count": 1,
   "metadata": {},
   "outputs": [],
   "source": [
    "import pandas as pd\n",
    "import pymongo\n",
    "from bs4 import BeautifulSoup as bs\n",
    "import requests\n",
    "from splinter import Browser\n",
    "\n",
    "# define a placeholder for final dictionary to pass into mars_app.py\n",
    "mars_dict = {}"
   ]
  },
  {
   "cell_type": "code",
   "execution_count": 2,
   "metadata": {},
   "outputs": [],
   "source": [
    "# function to get headlines, paragraphs, not images\n",
    "def scraping_func(url):\n",
    "    # Path to chromedriver\n",
    "    executable_path = {'executable_path': 'chromedriver.exe'}\n",
    "    browser = Browser('chrome', **executable_path, headless=False)\n",
    "    \n",
    "    # Go to website\n",
    "    browser.visit(url)\n",
    "    browser.is_element_present_by_css(\"ul.item_list li.slide\", wait_time=1)    \n",
    "    \n",
    "    # Convert the browser html to a soup object and then quit the browser\n",
    "    html = browser.html\n",
    "    scrape_soup = bs(html, 'html.parser')\n",
    "\n",
    "    # Close the browser after scraping\n",
    "    browser.quit()\n",
    "    \n",
    "    #return scraped object\n",
    "    return scrape_soup"
   ]
  },
  {
   "cell_type": "code",
   "execution_count": 3,
   "metadata": {},
   "outputs": [],
   "source": [
    "# function to get Featured image\n",
    "def get_featured_img_func(url):\n",
    "    # Path to chromedriver\n",
    "    executable_path = {'executable_path': 'chromedriver.exe'}\n",
    "    browser = Browser('chrome', **executable_path, headless=False)\n",
    "    \n",
    "    # Go to website\n",
    "    browser.visit(url)   \n",
    "    \n",
    "    # find \"Full Image\" button to click on it to get to next webpage\n",
    "    full_img = browser.find_by_id(\"full_image\")\n",
    "    full_img.click()\n",
    "    \n",
    "    # find \"More Info\" button to click on it to get to next webpage\n",
    "    browser.is_element_present_by_text('more info', wait_time=1)\n",
    "    more_info_elem = browser.find_link_by_partial_text('more info')\n",
    "    more_info_elem.click()\n",
    "    \n",
    "    # read website's html\n",
    "    html = browser.html\n",
    "    soup = bs(html, 'html.parser')\n",
    "    \n",
    "    # find \"a\" tag to find href containing the URL\n",
    "    result = browser.find_by_tag(\"a\")\n",
    "    relative_image_path = result[58][\"href\"] \n",
    "    \n",
    "    # Close the browser after scraping\n",
    "    browser.quit()\n",
    "    \n",
    "    #return scraped object\n",
    "    return relative_image_path"
   ]
  },
  {
   "cell_type": "code",
   "execution_count": 4,
   "metadata": {},
   "outputs": [],
   "source": [
    "# function to get Hemis images\n",
    "def get_hemis_img(url):\n",
    "    # Path to chromedriver\n",
    "    executable_path = {'executable_path': 'chromedriver.exe'}\n",
    "    browser = Browser('chrome', **executable_path, headless=False)\n",
    "            \n",
    "    # Go to website\n",
    "    browser.visit(url)\n",
    "    \n",
    "    # read website's html\n",
    "    html = browser.html\n",
    "    soup = bs(html, 'html.parser')\n",
    "\n",
    "    # find \"a\" tag\n",
    "    result = browser.find_by_tag(\"a\")\n",
    "    \n",
    "    # define a list to hold 1st link to full images\n",
    "    hemis_image_path_list = []\n",
    "    for i in range(8):\n",
    "        # if link exist, skip saving to list\n",
    "        if (result[i+4][\"href\"]) in hemis_image_path_list:\n",
    "            print('')\n",
    "        else:\n",
    "            hemis_image_path_list.append(result[i+4][\"href\"])\n",
    "\n",
    "    # Close the browser after scraping\n",
    "    browser.quit()\n",
    "    \n",
    "    final_hemis_img_url_list = []\n",
    "    for i in range(len(hemis_image_path_list)):\n",
    "        # Path to chromedriver\n",
    "        executable_path = {'executable_path': 'chromedriver.exe'}\n",
    "        browser = Browser('chrome', **executable_path, headless=False)\n",
    "        \n",
    "        # Go to website\n",
    "        browser.visit(hemis_image_path_list[i])\n",
    "        \n",
    "        # read website's html\n",
    "        html = browser.html\n",
    "        soup = bs(html, 'html.parser')\n",
    "        \n",
    "        # get image title\n",
    "        result_title = soup.find('h2', class_='title').get_text()  \n",
    "        \n",
    "        # get image URL\n",
    "        result = soup.find('img', class_='wide-image')[\"src\"]\n",
    "        final_url = 'https://astrogeology.usgs.gov' + result\n",
    "        \n",
    "        # concat image URL to get complete URL link\n",
    "        final_hemis_img_url_list.append({\"title\": result_title, \"img_url\": final_url})\n",
    "\n",
    "        # Close the browser after scraping\n",
    "        browser.quit()\n",
    "    \n",
    "    return final_hemis_img_url_list"
   ]
  },
  {
   "cell_type": "code",
   "execution_count": 5,
   "metadata": {},
   "outputs": [
    {
     "data": {
      "text/plain": [
       "\"Robotic Toolkit Added to NASA's Mars 2020 Rover\""
      ]
     },
     "execution_count": 5,
     "metadata": {},
     "output_type": "execute_result"
    }
   ],
   "source": [
    "### NASA Mars News\n",
    "# * Scrape the [NASA Mars News Site](https://mars.nasa.gov/news/) and collect the latest News Title and Paragraph Text. \n",
    "# Assign the text to variables that you can reference later.\n",
    "\n",
    "# Set Website URL to scrape\n",
    "url = 'https://mars.nasa.gov/news/'\n",
    "\n",
    "# Call scrape function and pass in url\n",
    "scrape_soup = scraping_func(url)\n",
    "\n",
    "# Get latest title\n",
    "news_title_find = scrape_soup.find('div', class_='content_title')\n",
    "\n",
    "# Get title from scrape\n",
    "news_title = news_title_find.get_text()\n",
    "news_title"
   ]
  },
  {
   "cell_type": "code",
   "execution_count": 6,
   "metadata": {},
   "outputs": [
    {
     "data": {
      "text/plain": [
       "\"The bit carousel, which lies at the heart of the rover's Sample Caching System, is now aboard NASA's newest rover. \""
      ]
     },
     "execution_count": 6,
     "metadata": {},
     "output_type": "execute_result"
    }
   ],
   "source": [
    "# Get latest title's paragraph\n",
    "news_p_find = scrape_soup.find('div', class_='article_teaser_body')\n",
    "news_p = news_p_find.get_text()\n",
    "news_p"
   ]
  },
  {
   "cell_type": "code",
   "execution_count": 7,
   "metadata": {},
   "outputs": [],
   "source": [
    "### JPL Mars Space Images - Featured Image\n",
    "#* Use splinter to navigate the site and find the image url for the current Featured Mars Image and \n",
    "# assign the url string to a variable called `featured_image_url`.\n",
    "\n",
    "# Set Website URL to scrape\n",
    "url = 'https://www.jpl.nasa.gov/spaceimages/?search=&category=Mars/'\n",
    "\n",
    "# call function to get the URL\n",
    "featured_image_url = get_featured_img_func(url)\n",
    "featured_image_url"
   ]
  },
  {
   "cell_type": "code",
   "execution_count": 8,
   "metadata": {},
   "outputs": [
    {
     "data": {
      "text/plain": [
       "'InSight sol 258 (2019-08-18) low -100.0ºC (-148.1ºF) high -26.2ºC (-15.2ºF)\\nwinds from the SSE at 5.3 m/s (11.9 mph) gusting to 16.8 m/s (37.6 mph)\\npressure at 7.60 hPapic.twitter.com/5nCVjcsmlZ'"
      ]
     },
     "execution_count": 8,
     "metadata": {},
     "output_type": "execute_result"
    }
   ],
   "source": [
    "### Mars Weather\n",
    "#* Visit the Mars Weather twitter account [here](https://twitter.com/marswxreport?lang=en) and \n",
    "# scrape the latest Mars weather tweet from the page. \n",
    "#Save the tweet text for the weather report as a variable called `mars_weather`\n",
    "\n",
    "# Set Website URL to scrape\n",
    "url = 'https://twitter.com/marswxreport?lang=en'\n",
    "\n",
    "# Call scrape function and pass in url\n",
    "scrape_soup = scraping_func(url)\n",
    "\n",
    "# Get latest weather tweet\n",
    "mars_weather_find = scrape_soup.find('p', class_='TweetTextSize TweetTextSize--normal js-tweet-text tweet-text')\n",
    "\n",
    "mars_weather = mars_weather_find.get_text()\n",
    "mars_weather"
   ]
  },
  {
   "cell_type": "code",
   "execution_count": 9,
   "metadata": {},
   "outputs": [
    {
     "data": {
      "text/html": [
       "<div>\n",
       "<style scoped>\n",
       "    .dataframe tbody tr th:only-of-type {\n",
       "        vertical-align: middle;\n",
       "    }\n",
       "\n",
       "    .dataframe tbody tr th {\n",
       "        vertical-align: top;\n",
       "    }\n",
       "\n",
       "    .dataframe thead th {\n",
       "        text-align: right;\n",
       "    }\n",
       "</style>\n",
       "<table border=\"1\" class=\"dataframe\">\n",
       "  <thead>\n",
       "    <tr style=\"text-align: right;\">\n",
       "      <th></th>\n",
       "      <th>Mars - Earth Comparison</th>\n",
       "      <th>Mars</th>\n",
       "      <th>Earth</th>\n",
       "    </tr>\n",
       "  </thead>\n",
       "  <tbody>\n",
       "    <tr>\n",
       "      <th>0</th>\n",
       "      <td>Diameter:</td>\n",
       "      <td>6,779 km</td>\n",
       "      <td>12,742 km</td>\n",
       "    </tr>\n",
       "    <tr>\n",
       "      <th>1</th>\n",
       "      <td>Mass:</td>\n",
       "      <td>6.39 × 10^23 kg</td>\n",
       "      <td>5.97 × 10^24 kg</td>\n",
       "    </tr>\n",
       "    <tr>\n",
       "      <th>2</th>\n",
       "      <td>Moons:</td>\n",
       "      <td>2</td>\n",
       "      <td>1</td>\n",
       "    </tr>\n",
       "    <tr>\n",
       "      <th>3</th>\n",
       "      <td>Distance from Sun:</td>\n",
       "      <td>227,943,824 km</td>\n",
       "      <td>149,598,262 km</td>\n",
       "    </tr>\n",
       "    <tr>\n",
       "      <th>4</th>\n",
       "      <td>Length of Year:</td>\n",
       "      <td>687 Earth days</td>\n",
       "      <td>365.24 days</td>\n",
       "    </tr>\n",
       "    <tr>\n",
       "      <th>5</th>\n",
       "      <td>Temperature:</td>\n",
       "      <td>-153 to 20 °C</td>\n",
       "      <td>-88 to 58°C</td>\n",
       "    </tr>\n",
       "  </tbody>\n",
       "</table>\n",
       "</div>"
      ],
      "text/plain": [
       "  Mars - Earth Comparison             Mars            Earth\n",
       "0               Diameter:         6,779 km        12,742 km\n",
       "1                   Mass:  6.39 × 10^23 kg  5.97 × 10^24 kg\n",
       "2                  Moons:                2                1\n",
       "3      Distance from Sun:   227,943,824 km   149,598,262 km\n",
       "4         Length of Year:   687 Earth days      365.24 days\n",
       "5            Temperature:    -153 to 20 °C      -88 to 58°C"
      ]
     },
     "execution_count": 9,
     "metadata": {},
     "output_type": "execute_result"
    }
   ],
   "source": [
    "### Mars Facts\n",
    "#* Visit the Mars Facts webpage [here](https://space-facts.com/mars/) and \n",
    "#use Pandas to scrape the table containing facts about the planet including Diameter, Mass, etc.\n",
    "#* Use Pandas to convert the data to a HTML table string.\n",
    "\n",
    "# Set Website URL to scrape\n",
    "url = 'https://space-facts.com/mars/'\n",
    "\n",
    "tables = pd.read_html(url)\n",
    "comp_table = tables[0]\n",
    "comp_table"
   ]
  },
  {
   "cell_type": "code",
   "execution_count": 10,
   "metadata": {},
   "outputs": [
    {
     "data": {
      "text/html": [
       "<div>\n",
       "<style scoped>\n",
       "    .dataframe tbody tr th:only-of-type {\n",
       "        vertical-align: middle;\n",
       "    }\n",
       "\n",
       "    .dataframe tbody tr th {\n",
       "        vertical-align: top;\n",
       "    }\n",
       "\n",
       "    .dataframe thead th {\n",
       "        text-align: right;\n",
       "    }\n",
       "</style>\n",
       "<table border=\"1\" class=\"dataframe\">\n",
       "  <thead>\n",
       "    <tr style=\"text-align: right;\">\n",
       "      <th></th>\n",
       "      <th>Mars-Earth Comparison</th>\n",
       "      <th>Mars</th>\n",
       "      <th>Earth</th>\n",
       "    </tr>\n",
       "  </thead>\n",
       "  <tbody>\n",
       "    <tr>\n",
       "      <th>0</th>\n",
       "      <td>Diameter:</td>\n",
       "      <td>6,779 km</td>\n",
       "      <td>12,742 km</td>\n",
       "    </tr>\n",
       "    <tr>\n",
       "      <th>1</th>\n",
       "      <td>Mass:</td>\n",
       "      <td>6.39 × 10^23 kg</td>\n",
       "      <td>5.97 × 10^24 kg</td>\n",
       "    </tr>\n",
       "    <tr>\n",
       "      <th>2</th>\n",
       "      <td>Moons:</td>\n",
       "      <td>2</td>\n",
       "      <td>1</td>\n",
       "    </tr>\n",
       "    <tr>\n",
       "      <th>3</th>\n",
       "      <td>Distance from Sun:</td>\n",
       "      <td>227,943,824 km</td>\n",
       "      <td>149,598,262 km</td>\n",
       "    </tr>\n",
       "    <tr>\n",
       "      <th>4</th>\n",
       "      <td>Length of Year:</td>\n",
       "      <td>687 Earth days</td>\n",
       "      <td>365.24 days</td>\n",
       "    </tr>\n",
       "    <tr>\n",
       "      <th>5</th>\n",
       "      <td>Temperature:</td>\n",
       "      <td>-153 to 20 °C</td>\n",
       "      <td>-88 to 58°C</td>\n",
       "    </tr>\n",
       "  </tbody>\n",
       "</table>\n",
       "</div>"
      ],
      "text/plain": [
       "  Mars-Earth Comparison             Mars            Earth\n",
       "0             Diameter:         6,779 km        12,742 km\n",
       "1                 Mass:  6.39 × 10^23 kg  5.97 × 10^24 kg\n",
       "2                Moons:                2                1\n",
       "3    Distance from Sun:   227,943,824 km   149,598,262 km\n",
       "4       Length of Year:   687 Earth days      365.24 days\n",
       "5          Temperature:    -153 to 20 °C      -88 to 58°C"
      ]
     },
     "execution_count": 10,
     "metadata": {},
     "output_type": "execute_result"
    }
   ],
   "source": [
    "mars_earth_comp_df = tables[0]\n",
    "mars_earth_comp_df.columns = ['Mars-Earth Comparison', 'Mars', 'Earth']\n",
    "mars_earth_comp_df"
   ]
  },
  {
   "cell_type": "code",
   "execution_count": 11,
   "metadata": {},
   "outputs": [
    {
     "data": {
      "text/plain": [
       "[{'description': 'Diameter:', 'mars': '6,779 km', 'earth': '12,742 km'},\n",
       " {'description': 'Mass:',\n",
       "  'mars': '6.39 × 10^23 kg',\n",
       "  'earth': '5.97 × 10^24 kg'},\n",
       " {'description': 'Moons:', 'mars': '2', 'earth': '1'},\n",
       " {'description': 'Distance from Sun:',\n",
       "  'mars': '227,943,824 km',\n",
       "  'earth': '149,598,262 km'},\n",
       " {'description': 'Length of Year:',\n",
       "  'mars': '687 Earth days',\n",
       "  'earth': '365.24 days'},\n",
       " {'description': 'Temperature:',\n",
       "  'mars': '-153 to 20 °C',\n",
       "  'earth': '-88 to 58°C'}]"
      ]
     },
     "execution_count": 11,
     "metadata": {},
     "output_type": "execute_result"
    }
   ],
   "source": [
    "mars_comparison = []\n",
    "dict_temp = {}\n",
    "for i in range(len(mars_earth_comp_df)):\n",
    "    for j in range(1):\n",
    "        dict_temp = {\"description\": mars_earth_comp_df.iloc[i][j], \"mars\": mars_earth_comp_df.iloc[i][j+1], \n",
    "                    \"earth\": mars_earth_comp_df.iloc[i][j+2]}\n",
    "        mars_comparison.append(dict_temp)\n",
    "mars_comparison"
   ]
  },
  {
   "cell_type": "code",
   "execution_count": 12,
   "metadata": {
    "scrolled": true
   },
   "outputs": [
    {
     "data": {
      "text/html": [
       "<div>\n",
       "<style scoped>\n",
       "    .dataframe tbody tr th:only-of-type {\n",
       "        vertical-align: middle;\n",
       "    }\n",
       "\n",
       "    .dataframe tbody tr th {\n",
       "        vertical-align: top;\n",
       "    }\n",
       "\n",
       "    .dataframe thead th {\n",
       "        text-align: right;\n",
       "    }\n",
       "</style>\n",
       "<table border=\"1\" class=\"dataframe\">\n",
       "  <thead>\n",
       "    <tr style=\"text-align: right;\">\n",
       "      <th></th>\n",
       "      <th>Mars Planet Profile</th>\n",
       "      <th>Measurement</th>\n",
       "    </tr>\n",
       "  </thead>\n",
       "  <tbody>\n",
       "    <tr>\n",
       "      <th>0</th>\n",
       "      <td>Equatorial Diameter:</td>\n",
       "      <td>6,792 km</td>\n",
       "    </tr>\n",
       "    <tr>\n",
       "      <th>1</th>\n",
       "      <td>Polar Diameter:</td>\n",
       "      <td>6,752 km</td>\n",
       "    </tr>\n",
       "    <tr>\n",
       "      <th>2</th>\n",
       "      <td>Mass:</td>\n",
       "      <td>6.39 × 10^23 kg (0.11 Earths)</td>\n",
       "    </tr>\n",
       "    <tr>\n",
       "      <th>3</th>\n",
       "      <td>Moons:</td>\n",
       "      <td>2 (Phobos &amp; Deimos)</td>\n",
       "    </tr>\n",
       "    <tr>\n",
       "      <th>4</th>\n",
       "      <td>Orbit Distance:</td>\n",
       "      <td>227,943,824 km (1.38 AU)</td>\n",
       "    </tr>\n",
       "    <tr>\n",
       "      <th>5</th>\n",
       "      <td>Orbit Period:</td>\n",
       "      <td>687 days (1.9 years)</td>\n",
       "    </tr>\n",
       "    <tr>\n",
       "      <th>6</th>\n",
       "      <td>Surface Temperature:</td>\n",
       "      <td>-87 to -5 °C</td>\n",
       "    </tr>\n",
       "    <tr>\n",
       "      <th>7</th>\n",
       "      <td>First Record:</td>\n",
       "      <td>2nd millennium BC</td>\n",
       "    </tr>\n",
       "    <tr>\n",
       "      <th>8</th>\n",
       "      <td>Recorded By:</td>\n",
       "      <td>Egyptian astronomers</td>\n",
       "    </tr>\n",
       "  </tbody>\n",
       "</table>\n",
       "</div>"
      ],
      "text/plain": [
       "    Mars Planet Profile                    Measurement\n",
       "0  Equatorial Diameter:                       6,792 km\n",
       "1       Polar Diameter:                       6,752 km\n",
       "2                 Mass:  6.39 × 10^23 kg (0.11 Earths)\n",
       "3                Moons:            2 (Phobos & Deimos)\n",
       "4       Orbit Distance:       227,943,824 km (1.38 AU)\n",
       "5         Orbit Period:           687 days (1.9 years)\n",
       "6  Surface Temperature:                   -87 to -5 °C\n",
       "7         First Record:              2nd millennium BC\n",
       "8          Recorded By:           Egyptian astronomers"
      ]
     },
     "execution_count": 12,
     "metadata": {},
     "output_type": "execute_result"
    }
   ],
   "source": [
    "mars_planet_profile_df = tables[1]\n",
    "mars_planet_profile_df.columns = ['Mars Planet Profile', 'Measurement']\n",
    "mars_planet_profile_df"
   ]
  },
  {
   "cell_type": "code",
   "execution_count": 13,
   "metadata": {},
   "outputs": [
    {
     "data": {
      "text/plain": [
       "[{'description': 'Equatorial Diameter:', 'value': '6,792 km'},\n",
       " {'description': 'Polar Diameter:', 'value': '6,752 km'},\n",
       " {'description': 'Mass:', 'value': '6.39 × 10^23 kg (0.11 Earths)'},\n",
       " {'description': 'Moons:', 'value': '2 (Phobos & Deimos)'},\n",
       " {'description': 'Orbit Distance:', 'value': '227,943,824 km (1.38 AU)'},\n",
       " {'description': 'Orbit Period:', 'value': '687 days (1.9 years)'},\n",
       " {'description': 'Surface Temperature:', 'value': '-87 to -5 °C'},\n",
       " {'description': 'First Record:', 'value': '2nd millennium BC'},\n",
       " {'description': 'Recorded By:', 'value': 'Egyptian astronomers'}]"
      ]
     },
     "execution_count": 13,
     "metadata": {},
     "output_type": "execute_result"
    }
   ],
   "source": [
    "mars_profile = []\n",
    "dict_temp = {}\n",
    "for i in range(len(mars_planet_profile_df)):\n",
    "    for j in range(1):\n",
    "        dict_temp = {\"description\":mars_planet_profile_df.iloc[i][j], \"value\": mars_planet_profile_df.iloc[i][j+1]}\n",
    "        mars_profile.append(dict_temp)\n",
    "mars_profile"
   ]
  },
  {
   "cell_type": "code",
   "execution_count": 16,
   "metadata": {},
   "outputs": [
    {
     "name": "stdout",
     "output_type": "stream",
     "text": [
      "\n",
      "\n",
      "\n",
      "\n"
     ]
    },
    {
     "data": {
      "text/plain": [
       "[{'title': 'Cerberus Hemisphere Enhanced',\n",
       "  'img_url': 'https://astrogeology.usgs.gov/cache/images/cfa62af2557222a02478f1fcd781d445_cerberus_enhanced.tif_full.jpg'},\n",
       " {'title': 'Schiaparelli Hemisphere Enhanced',\n",
       "  'img_url': 'https://astrogeology.usgs.gov/cache/images/3cdd1cbf5e0813bba925c9030d13b62e_schiaparelli_enhanced.tif_full.jpg'},\n",
       " {'title': 'Syrtis Major Hemisphere Enhanced',\n",
       "  'img_url': 'https://astrogeology.usgs.gov/cache/images/ae209b4e408bb6c3e67b6af38168cf28_syrtis_major_enhanced.tif_full.jpg'},\n",
       " {'title': 'Valles Marineris Hemisphere Enhanced',\n",
       "  'img_url': 'https://astrogeology.usgs.gov/cache/images/7cf2da4bf549ed01c17f206327be4db7_valles_marineris_enhanced.tif_full.jpg'}]"
      ]
     },
     "execution_count": 16,
     "metadata": {},
     "output_type": "execute_result"
    }
   ],
   "source": [
    "#* Visit the USGS Astrogeology site [here](https://astrogeology.usgs.gov/search/results?q=hemisphere+enhanced&k1=target&v1=Mars) \n",
    "#to obtain high resolution images for each of Mar's hemispheres.\n",
    "#* You will need to click each of the links to the hemispheres in order to find the image url to the full resolution image.\n",
    "#* Save both the image url string for the full resolution hemisphere image, and the Hemisphere title containing \n",
    "#the hemisphere name. Use a Python dictionary to store the data using the keys `img_url` and `title`.\n",
    "#* Append the dictionary with the image url string and the hemisphere title to a list. \n",
    "# This list will contain one dictionary for each hemisphere.\n",
    "\n",
    "# Set Website URL to scrape\n",
    "url = 'https://astrogeology.usgs.gov/search/results?q=hemisphere+enhanced&k1=target&v1=Mars'\n",
    "\n",
    "# call function to get Hemis Images URL\n",
    "final_hemis_img_url_list = get_hemis_img(url)\n",
    "final_hemis_img_url_list"
   ]
  },
  {
   "cell_type": "code",
   "execution_count": null,
   "metadata": {},
   "outputs": [],
   "source": []
  },
  {
   "cell_type": "code",
   "execution_count": 17,
   "metadata": {},
   "outputs": [
    {
     "data": {
      "text/plain": [
       "{'mars_title': \"Robotic Toolkit Added to NASA's Mars 2020 Rover\",\n",
       " 'mars_news': \"The bit carousel, which lies at the heart of the rover's Sample Caching System, is now aboard NASA's newest rover. \",\n",
       " 'mars_image': 'https://www.jpl.nasa.gov/spaceimages/images/largesize/PIA18914_hires.jpg',\n",
       " 'mars_currentweather': 'InSight sol 258 (2019-08-18) low -100.0ºC (-148.1ºF) high -26.2ºC (-15.2ºF)\\nwinds from the SSE at 5.3 m/s (11.9 mph) gusting to 16.8 m/s (37.6 mph)\\npressure at 7.60 hPapic.twitter.com/5nCVjcsmlZ',\n",
       " 'mars_comparison': [{'description': 'Diameter:',\n",
       "   'mars': '6,779 km',\n",
       "   'earth': '12,742 km'},\n",
       "  {'description': 'Mass:',\n",
       "   'mars': '6.39 × 10^23 kg',\n",
       "   'earth': '5.97 × 10^24 kg'},\n",
       "  {'description': 'Moons:', 'mars': '2', 'earth': '1'},\n",
       "  {'description': 'Distance from Sun:',\n",
       "   'mars': '227,943,824 km',\n",
       "   'earth': '149,598,262 km'},\n",
       "  {'description': 'Length of Year:',\n",
       "   'mars': '687 Earth days',\n",
       "   'earth': '365.24 days'},\n",
       "  {'description': 'Temperature:',\n",
       "   'mars': '-153 to 20 °C',\n",
       "   'earth': '-88 to 58°C'}],\n",
       " 'mars_profile': [{'description': 'Equatorial Diameter:', 'value': '6,792 km'},\n",
       "  {'description': 'Polar Diameter:', 'value': '6,752 km'},\n",
       "  {'description': 'Mass:', 'value': '6.39 × 10^23 kg (0.11 Earths)'},\n",
       "  {'description': 'Moons:', 'value': '2 (Phobos & Deimos)'},\n",
       "  {'description': 'Orbit Distance:', 'value': '227,943,824 km (1.38 AU)'},\n",
       "  {'description': 'Orbit Period:', 'value': '687 days (1.9 years)'},\n",
       "  {'description': 'Surface Temperature:', 'value': '-87 to -5 °C'},\n",
       "  {'description': 'First Record:', 'value': '2nd millennium BC'},\n",
       "  {'description': 'Recorded By:', 'value': 'Egyptian astronomers'}],\n",
       " 'mars_image_urls': [{'title': 'Cerberus Hemisphere Enhanced',\n",
       "   'img_url': 'https://astrogeology.usgs.gov/cache/images/cfa62af2557222a02478f1fcd781d445_cerberus_enhanced.tif_full.jpg'},\n",
       "  {'title': 'Schiaparelli Hemisphere Enhanced',\n",
       "   'img_url': 'https://astrogeology.usgs.gov/cache/images/3cdd1cbf5e0813bba925c9030d13b62e_schiaparelli_enhanced.tif_full.jpg'},\n",
       "  {'title': 'Syrtis Major Hemisphere Enhanced',\n",
       "   'img_url': 'https://astrogeology.usgs.gov/cache/images/ae209b4e408bb6c3e67b6af38168cf28_syrtis_major_enhanced.tif_full.jpg'},\n",
       "  {'title': 'Valles Marineris Hemisphere Enhanced',\n",
       "   'img_url': 'https://astrogeology.usgs.gov/cache/images/7cf2da4bf549ed01c17f206327be4db7_valles_marineris_enhanced.tif_full.jpg'}]}"
      ]
     },
     "execution_count": 17,
     "metadata": {},
     "output_type": "execute_result"
    }
   ],
   "source": [
    "mars_dict[\"mars_title\"] = news_title\n",
    "mars_dict[\"mars_news\"] = news_p\n",
    "mars_dict[\"mars_image\"] = featured_image_url\n",
    "mars_dict[\"mars_currentweather\"] = mars_weather\n",
    "mars_dict[\"mars_comparison\"] = mars_comparison\n",
    "mars_dict[\"mars_profile\"] = mars_profile\n",
    "mars_dict[\"mars_image_urls\"] = final_hemis_img_url_list\n",
    "\n",
    "mars_dict"
   ]
  },
  {
   "cell_type": "code",
   "execution_count": 18,
   "metadata": {},
   "outputs": [
    {
     "data": {
      "text/plain": [
       "[{'description': 'Equatorial Diameter:', 'value': '6,792 km'},\n",
       " {'description': 'Polar Diameter:', 'value': '6,752 km'},\n",
       " {'description': 'Mass:', 'value': '6.39 × 10^23 kg (0.11 Earths)'},\n",
       " {'description': 'Moons:', 'value': '2 (Phobos & Deimos)'},\n",
       " {'description': 'Orbit Distance:', 'value': '227,943,824 km (1.38 AU)'},\n",
       " {'description': 'Orbit Period:', 'value': '687 days (1.9 years)'},\n",
       " {'description': 'Surface Temperature:', 'value': '-87 to -5 °C'},\n",
       " {'description': 'First Record:', 'value': '2nd millennium BC'},\n",
       " {'description': 'Recorded By:', 'value': 'Egyptian astronomers'}]"
      ]
     },
     "execution_count": 18,
     "metadata": {},
     "output_type": "execute_result"
    }
   ],
   "source": [
    "mars_dict['mars_profile']"
   ]
  },
  {
   "cell_type": "code",
   "execution_count": null,
   "metadata": {},
   "outputs": [],
   "source": []
  }
 ],
 "metadata": {
  "kernelspec": {
   "display_name": "Python 3",
   "language": "python",
   "name": "python3"
  },
  "language_info": {
   "codemirror_mode": {
    "name": "ipython",
    "version": 3
   },
   "file_extension": ".py",
   "mimetype": "text/x-python",
   "name": "python",
   "nbconvert_exporter": "python",
   "pygments_lexer": "ipython3",
   "version": "3.7.3"
  }
 },
 "nbformat": 4,
 "nbformat_minor": 2
}
