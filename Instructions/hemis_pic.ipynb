{
 "cells": [
  {
   "cell_type": "code",
   "execution_count": 1,
   "metadata": {},
   "outputs": [],
   "source": [
    "import pandas as pd\n",
    "import pymongo\n",
    "from bs4 import BeautifulSoup as bs\n",
    "import requests\n",
    "from splinter import Browser\n",
    "\n",
    "# define a placeholder for saved variables\n",
    "mars_dict = {}"
   ]
  },
  {
   "cell_type": "code",
   "execution_count": 2,
   "metadata": {},
   "outputs": [],
   "source": [
    "# Get latest picture\n",
    "#relative_image_path = scrape_soup.find_all('article')\n",
    "#relative_image_path\n",
    "executable_path = {'executable_path': 'chromedriver.exe'}\n",
    "browser = Browser('chrome', **executable_path, headless=False)"
   ]
  },
  {
   "cell_type": "code",
   "execution_count": 3,
   "metadata": {},
   "outputs": [],
   "source": [
    "### JPL Mars Space Images - Featured Image\n",
    "#* Use splinter to navigate the site and find the image url for the current Featured Mars Image and \n",
    "# assign the url string to a variable called `featured_image_url`.\n",
    "\n",
    "# Set Website URL to scrape\n",
    "url = 'https://astrogeology.usgs.gov/search/results?q=hemisphere+enhanced&k1=target&v1=Mars'\n",
    "    \n",
    "# Go to website\n",
    "browser.visit(url)"
   ]
  },
  {
   "cell_type": "code",
   "execution_count": 4,
   "metadata": {},
   "outputs": [],
   "source": [
    "#more_info_elem = browser.click_link_by_partial_href('cerberus')\n",
    "#more_info_elem.click()\n",
    "# read website's html\n",
    "#html = browser.html\n",
    "#soup = bs(html, 'html.parser')\n",
    "    \n",
    "# find \"a\" tag to find href containing the URL\n",
    "#result = browser.find_by_tag(\"img\")\n",
    "#result"
   ]
  },
  {
   "cell_type": "code",
   "execution_count": 5,
   "metadata": {},
   "outputs": [
    {
     "name": "stdout",
     "output_type": "stream",
     "text": [
      "https://www.usgs.gov/centers/astrogeo-sc\n",
      "https://nasa.gov/\n",
      "https://pds-imaging.jpl.nasa.gov/\n",
      "https://astrogeology.usgs.gov/search\n",
      "https://astrogeology.usgs.gov/search/map/Mars/Viking/cerberus_enhanced\n",
      "https://astrogeology.usgs.gov/search/map/Mars/Viking/cerberus_enhanced\n",
      "https://astrogeology.usgs.gov/search/map/Mars/Viking/schiaparelli_enhanced\n",
      "https://astrogeology.usgs.gov/search/map/Mars/Viking/schiaparelli_enhanced\n",
      "https://astrogeology.usgs.gov/search/map/Mars/Viking/syrtis_major_enhanced\n",
      "https://astrogeology.usgs.gov/search/map/Mars/Viking/syrtis_major_enhanced\n",
      "https://astrogeology.usgs.gov/search/map/Mars/Viking/valles_marineris_enhanced\n",
      "https://astrogeology.usgs.gov/search/map/Mars/Viking/valles_marineris_enhanced\n",
      "http://isis.astrogeology.usgs.gov/\n",
      "http://planetarynames.wr.usgs.gov/\n",
      "https://astrogeology.usgs.gov/tools/map-a-planet-2\n",
      "https://www.usgs.gov/centers/astrogeo-sc/science/cartography-and-imaging-sciences-node-nasa-planetary-data-system\n",
      "https://www.usgs.gov/centers/astrogeo-sc/science/regional-planetary-image-facility-rpif\n",
      "https://www.usgs.gov/centers/astrogeo-sc/science/usgsnasa-planetary-photogrammetry-guest-facility\n",
      "http://pilot.wr.usgs.gov/\n",
      "https://www.usgs.gov/centers/astrogeo-sc/science/mrctr-gis-lab\n",
      "http://astrogeology.usgs.gov/search\n",
      "http://astrogeology.usgs.gov/maps/about\n",
      "http://astrogeology.usgs.gov/maps/contact\n",
      "https://www.usgs.gov/centers/astrogeo-sc\n"
     ]
    }
   ],
   "source": [
    "html = browser.html\n",
    "soup = bs(html, 'html.parser')\n",
    "\n",
    "result = browser.find_by_tag(\"a\")\n",
    "\n",
    "for i in result:\n",
    "    print(i[\"href\"])"
   ]
  },
  {
   "cell_type": "code",
   "execution_count": 6,
   "metadata": {},
   "outputs": [
    {
     "name": "stdout",
     "output_type": "stream",
     "text": [
      "\n",
      "\n",
      "\n",
      "\n"
     ]
    },
    {
     "data": {
      "text/plain": [
       "4"
      ]
     },
     "execution_count": 6,
     "metadata": {},
     "output_type": "execute_result"
    }
   ],
   "source": [
    "hemis_image_path_list = []\n",
    "for i in range(8):\n",
    "    if (result[i+4][\"href\"]) in hemis_image_path_list:\n",
    "        print('')\n",
    "    else:\n",
    "        hemis_image_path_list.append(result[i+4][\"href\"])\n",
    "\n",
    "# browser reload\n",
    "browser.reload()\n",
    "\n",
    "# Close the browser after scraping\n",
    "browser.quit()\n",
    "len(hemis_image_path_list)"
   ]
  },
  {
   "cell_type": "code",
   "execution_count": 7,
   "metadata": {},
   "outputs": [
    {
     "data": {
      "text/plain": [
       "'/cache/images/cfa62af2557222a02478f1fcd781d445_cerberus_enhanced.tif_full.jpg'"
      ]
     },
     "execution_count": 7,
     "metadata": {},
     "output_type": "execute_result"
    }
   ],
   "source": [
    "test_list = []\n",
    "executable_path = {'executable_path': 'chromedriver.exe'}\n",
    "browser = Browser('chrome', **executable_path, headless=False)\n",
    "browser.visit(hemis_image_path_list[0])\n",
    "\n",
    "html = browser.html\n",
    "soup = bs(html, 'html.parser')\n",
    "\n",
    "result = soup.find('img', class_='wide-image')[\"src\"]\n",
    "result"
   ]
  },
  {
   "cell_type": "code",
   "execution_count": 8,
   "metadata": {},
   "outputs": [
    {
     "data": {
      "text/plain": [
       "['/cache/images/cfa62af2557222a02478f1fcd781d445_cerberus_enhanced.tif_full.jpg']"
      ]
     },
     "execution_count": 8,
     "metadata": {},
     "output_type": "execute_result"
    }
   ],
   "source": [
    "test_list.append(result)\n",
    "    \n",
    "# Close the browser after scraping\n",
    "browser.quit()\n",
    "test_list"
   ]
  },
  {
   "cell_type": "code",
   "execution_count": 9,
   "metadata": {},
   "outputs": [
    {
     "data": {
      "text/plain": [
       "[{'title': 'Cerberus Hemisphere Enhanced',\n",
       "  'img_url': 'https://astrogeology.usgs.gov/cache/images/cfa62af2557222a02478f1fcd781d445_cerberus_enhanced.tif_full.jpg'},\n",
       " {'title': 'Schiaparelli Hemisphere Enhanced',\n",
       "  'img_url': 'https://astrogeology.usgs.gov/cache/images/3cdd1cbf5e0813bba925c9030d13b62e_schiaparelli_enhanced.tif_full.jpg'},\n",
       " {'title': 'Syrtis Major Hemisphere Enhanced',\n",
       "  'img_url': 'https://astrogeology.usgs.gov/cache/images/ae209b4e408bb6c3e67b6af38168cf28_syrtis_major_enhanced.tif_full.jpg'},\n",
       " {'title': 'Valles Marineris Hemisphere Enhanced',\n",
       "  'img_url': 'https://astrogeology.usgs.gov/cache/images/7cf2da4bf549ed01c17f206327be4db7_valles_marineris_enhanced.tif_full.jpg'}]"
      ]
     },
     "execution_count": 9,
     "metadata": {},
     "output_type": "execute_result"
    }
   ],
   "source": [
    "test_list = []\n",
    "for i in range(len(hemis_image_path_list)):\n",
    "    executable_path = {'executable_path': 'chromedriver.exe'}\n",
    "    browser = Browser('chrome', **executable_path, headless=False)\n",
    "    browser.visit(hemis_image_path_list[i])\n",
    "\n",
    "    html = browser.html\n",
    "    soup = bs(html, 'html.parser')\n",
    "    \n",
    "    result_title = soup.find('h2', class_='title').get_text()    \n",
    "    result = soup.find('img', class_='wide-image')[\"src\"]\n",
    "    final_url = 'https://astrogeology.usgs.gov' + result\n",
    "    test_list.append({\"title\": result_title, \"img_url\": final_url})\n",
    "    \n",
    "    # browser reload\n",
    "    browser.reload()\n",
    "    \n",
    "    # Close the browser after scraping\n",
    "    browser.quit()\n",
    "\n",
    "    \n",
    "\n",
    "\n",
    "\n",
    "#    test(hemis_image_path_list[i], test_list)\n",
    "\n",
    "    \n",
    "#hemis_image_path_list\n",
    "test_list"
   ]
  },
  {
   "cell_type": "code",
   "execution_count": 10,
   "metadata": {},
   "outputs": [
    {
     "data": {
      "text/plain": [
       "'https://astrogeology.usgs.gov/search/map/Mars/Viking/cerberus_enhanced'"
      ]
     },
     "execution_count": 10,
     "metadata": {},
     "output_type": "execute_result"
    }
   ],
   "source": [
    "hemis_image_path_list[0]"
   ]
  },
  {
   "cell_type": "code",
   "execution_count": null,
   "metadata": {},
   "outputs": [],
   "source": []
  }
 ],
 "metadata": {
  "kernelspec": {
   "display_name": "Python 3",
   "language": "python",
   "name": "python3"
  },
  "language_info": {
   "codemirror_mode": {
    "name": "ipython",
    "version": 3
   },
   "file_extension": ".py",
   "mimetype": "text/x-python",
   "name": "python",
   "nbconvert_exporter": "python",
   "pygments_lexer": "ipython3",
   "version": "3.7.3"
  }
 },
 "nbformat": 4,
 "nbformat_minor": 2
}
