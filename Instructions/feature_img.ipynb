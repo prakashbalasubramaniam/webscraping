{
 "cells": [
  {
   "cell_type": "code",
   "execution_count": 1,
   "metadata": {},
   "outputs": [],
   "source": [
    "import pandas as pd\n",
    "import pymongo\n",
    "from bs4 import BeautifulSoup as bs\n",
    "import requests\n",
    "from splinter import Browser\n",
    "\n",
    "# define a placeholder for saved variables\n",
    "mars_dict = {}"
   ]
  },
  {
   "cell_type": "code",
   "execution_count": 2,
   "metadata": {},
   "outputs": [],
   "source": [
    "# Get latest picture\n",
    "#relative_image_path = scrape_soup.find_all('article')\n",
    "#relative_image_path\n",
    "executable_path = {'executable_path': 'chromedriver.exe'}\n",
    "browser = Browser('chrome', **executable_path, headless=False)"
   ]
  },
  {
   "cell_type": "code",
   "execution_count": 3,
   "metadata": {},
   "outputs": [],
   "source": [
    "### JPL Mars Space Images - Featured Image\n",
    "#* Use splinter to navigate the site and find the image url for the current Featured Mars Image and \n",
    "# assign the url string to a variable called `featured_image_url`.\n",
    "\n",
    "# Set Website URL to scrape\n",
    "url = 'https://www.jpl.nasa.gov/spaceimages/?search=&category=Mars/'\n",
    "\n",
    "    \n",
    "# Go to website\n",
    "browser.visit(url)\n",
    "#browser.is_element_present_by_css(\"ul.item_list li.slide\", wait_time=1)   \n",
    "full_img = browser.find_by_id(\"full_image\")\n",
    "full_img.click()\n",
    "browser.is_element_present_by_text('more info', wait_time=1)\n",
    "more_info_elem = browser.find_link_by_partial_text('more info')\n",
    "more_info_elem.click()\n"
   ]
  },
  {
   "cell_type": "code",
   "execution_count": 4,
   "metadata": {},
   "outputs": [
    {
     "name": "stdout",
     "output_type": "stream",
     "text": [
      "http://www.nasa.gov/\n",
      "https://www.jpl.nasa.gov/\n",
      "http://www.caltech.edu/\n",
      "https://www.jpl.nasa.gov/spaceimages/details.php?id=PIA09178#main\n",
      "javascript:void(0);\n",
      "http://www.nasa.gov/\n",
      "\n",
      "\n",
      "None\n",
      "javascript:void(0);\n",
      "https://www.jpl.nasa.gov/about\n",
      "https://www.jpl.nasa.gov/about\n",
      "https://www.jpl.nasa.gov/about/exec.php\n",
      "https://www.jpl.nasa.gov/about/history.php\n",
      "https://www.jpl.nasa.gov/about/reports.php\n",
      "https://www.jpl.nasa.gov/contact_JPL.php\n",
      "https://www.jpl.nasa.gov/opportunities/\n",
      "https://www.jpl.nasa.gov/events\n",
      "https://www.jpl.nasa.gov/events\n",
      "https://www.jpl.nasa.gov/events/tours/views\n",
      "https://www.jpl.nasa.gov/events/lectures.php\n",
      "https://www.jpl.nasa.gov/events/speakers-bureau.php\n",
      "https://www.jpl.nasa.gov/events/team-competitions.php\n",
      "https://www.jpl.nasa.gov/events/special-events.php\n",
      "https://www.jpl.nasa.gov/edu/\n",
      "https://www.jpl.nasa.gov/edu/intern/\n",
      "https://www.jpl.nasa.gov/edu/learn/\n",
      "https://www.jpl.nasa.gov/edu/teach/\n",
      "https://www.jpl.nasa.gov/edu/news/\n",
      "https://www.jpl.nasa.gov/edu/events/\n",
      "https://www.jpl.nasa.gov/news\n",
      "https://www.jpl.nasa.gov/news\n",
      "https://www.jpl.nasa.gov/news/presskits.php\n",
      "https://www.jpl.nasa.gov/news/factsheets.php\n",
      "https://www.jpl.nasa.gov/news/mediainformation.php\n",
      "http://blogs.jpl.nasa.gov/\n",
      "https://www.jpl.nasa.gov/missions/\n",
      "https://www.jpl.nasa.gov/missions/?type=current\n",
      "https://www.jpl.nasa.gov/missions/?type=past\n",
      "https://www.jpl.nasa.gov/missions/?type=future\n",
      "https://www.jpl.nasa.gov/missions/?type=proposed\n",
      "https://www.jpl.nasa.gov/missions\n",
      "https://www.jpl.nasa.gov/spaceimages\n",
      "https://www.jpl.nasa.gov/spaceimages\n",
      "https://www.jpl.nasa.gov/videos\n",
      "https://www.jpl.nasa.gov/infographics\n",
      "https://www.jpl.nasa.gov/multimedia/audio.php\n",
      "https://www.jpl.nasa.gov/apps/\n",
      "https://www.jpl.nasa.gov/social\n",
      "http://www.facebook.com/NASAJPL\n",
      "https://twitter.com/NASAJPL\n",
      "http://www.youtube.com/user/JPLnews?sub_confirmation=1\n",
      "http://instagram.com/nasajpl\n",
      "https://www.jpl.nasa.gov/social\n",
      "None\n",
      "https://www.jpl.nasa.gov/spaceimages/details.php?id=PIA09119\n",
      "https://www.jpl.nasa.gov/spaceimages/details.php?id=PIA09196\n",
      "https://www.jpl.nasa.gov/spaceimages/\n",
      "https://www.jpl.nasa.gov/spaceimages/images/largesize/PIA09178_hires.jpg\n",
      "https://www.jpl.nasa.gov/spaceimages/index.php?category=\n",
      "https://www.jpl.nasa.gov/spaceimages/index.php?search=Spitzer+Space+Telescope\n",
      "https://www.jpl.nasa.gov/spaceimages/index.php?search=Helix+Nebula\n",
      "https://www.jpl.nasa.gov/spaceimages/index.php?search=Spitzer+Space+Telescope\n",
      "https://www.jpl.nasa.gov/spaceimages/index.php?search=Infrared+Array+Camera+%28IRAC%29\n",
      "https://www.jpl.nasa.gov/spaceimages/index.php?search=Multiband+Imaging+Photometer+%28MIPS%29\n",
      "https://photojournal.jpl.nasa.gov/tiff/PIA09178.tif\n",
      "https://photojournal.jpl.nasa.gov/jpeg/PIA09178.jpg\n",
      "https://www.jpl.nasa.gov/spaceimages/images/wallpaper/PIA09178-800x600.jpg\n",
      "https://www.jpl.nasa.gov/spaceimages/images/wallpaper/PIA09178-1024x768.jpg\n",
      "https://www.jpl.nasa.gov/spaceimages/images/wallpaper/PIA09178-1280x1024.jpg\n",
      "https://www.jpl.nasa.gov/spaceimages/images/wallpaper/PIA09178-1600x1200.jpg\n",
      "https://www.jpl.nasa.gov/spaceimages/images/wallpaper/PIA09178-1280x800.jpg\n",
      "https://www.jpl.nasa.gov/spaceimages/images/wallpaper/PIA09178-1440x900.jpg\n",
      "https://www.jpl.nasa.gov/spaceimages/images/wallpaper/PIA09178-1920x1200.jpg\n",
      "https://www.jpl.nasa.gov/spaceimages/details.php?id=PIA23129\n",
      "https://www.jpl.nasa.gov/spaceimages/details.php?id=PIA23128\n",
      "https://www.jpl.nasa.gov/spaceimages/details.php?id=PIA23127\n",
      "https://www.jpl.nasa.gov/spaceimages/index.php?category=Universe\n",
      "http://www.facebook.com/NASAJPL\n",
      "https://twitter.com/NASAJPL\n",
      "http://www.youtube.com/user/JPLnews?sub_confirmation=1\n",
      "http://instagram.com/nasajpl\n",
      "https://www.jpl.nasa.gov/social\n",
      "https://www.jpl.nasa.gov/about/\n",
      "https://www.jpl.nasa.gov/jpl2025/vision/\n",
      "https://www.jpl.nasa.gov/about/exec.php\n",
      "https://www.jpl.nasa.gov/about/history.php\n",
      "https://www.jpl.nasa.gov/about/reports.php\n",
      "https://www.jpl.nasa.gov/contact_JPL.php\n",
      "https://www.jpl.nasa.gov/opportunities/\n",
      "https://thejplstore.com/\n",
      "https://www.jpl.nasa.gov/acquisition/\n",
      "https://www.jpl.nasa.gov/missions/?type=current\n",
      "https://www.jpl.nasa.gov/missions/?type=past\n",
      "https://www.jpl.nasa.gov/missions/?type=future\n",
      "https://www.jpl.nasa.gov/missions/?type=proposed\n",
      "https://www.jpl.nasa.gov/missions\n",
      "https://www.jpl.nasa.gov/edu/intern/\n",
      "https://www.jpl.nasa.gov/edu/learn/\n",
      "https://www.jpl.nasa.gov/edu/teach/\n",
      "https://www.jpl.nasa.gov/edu/news/\n",
      "https://www.jpl.nasa.gov/edu/events/\n",
      "https://www.jpl.nasa.gov/news\n",
      "https://www.jpl.nasa.gov/news/presskits.php\n",
      "https://www.jpl.nasa.gov/news/factsheets.php\n",
      "https://www.jpl.nasa.gov/news/mediainformation.php\n",
      "https://www.jpl.nasa.gov/universe/\n",
      "https://www.jpl.nasa.gov/events/\n",
      "https://www.jpl.nasa.gov/events/tours/views/\n",
      "https://www.jpl.nasa.gov/events/lectures.php\n",
      "https://www.jpl.nasa.gov/events/speakers-bureau.php\n",
      "https://www.jpl.nasa.gov/events/team-competitions.php\n",
      "https://www.jpl.nasa.gov/events/special-events.php\n",
      "https://www.jpl.nasa.gov/asteroidwatch/\n",
      "https://solarsystem.nasa.gov/basics/\n",
      "https://solarsystem.nasa.gov/basics/\n",
      "https://solarsystem.nasa.gov/basics/\n",
      "http://saturn.jpl.nasa.gov/index.cfm\n",
      "http://climate.nasa.gov/\n",
      "http://planetquest.jpl.nasa.gov/\n",
      "https://www.jpl.nasa.gov/missions/juno/\n",
      "https://mars.nasa.gov/\n",
      "http://scienceandtechnology.jpl.nasa.gov/\n",
      "http://solarsystem.nasa.gov/\n",
      "https://eyes.nasa.gov/\n",
      "http://www.spitzer.caltech.edu/\n",
      "https://voyager.jpl.nasa.gov/\n",
      "https://www.jpl.nasa.gov/spaceimages/\n",
      "https://www.jpl.nasa.gov/videos/\n",
      "https://www.jpl.nasa.gov/infographics/\n",
      "https://photojournal.jpl.nasa.gov/\n",
      "http://www.nasaimages.org/\n",
      "https://www.jpl.nasa.gov/apps/\n",
      "https://www.jpl.nasa.gov/signup/\n",
      "https://www.facebook.com/NASAJPL\n",
      "http://twitter.com/NASAJPL\n",
      "http://www.youtube.com/user/JPLnews\n",
      "http://www.flickr.com/photos/nasa-jpl\n",
      "http://instagram.com/nasajpl\n",
      "https://www.linkedin.com/company/2004/\n",
      "http://itunes.apple.com/podcast/hd-nasas-jet-propulsion-laboratory/id262254981\n",
      "http://www.ustream.tv/nasajpl\n",
      "https://www.jpl.nasa.gov/rss/\n",
      "http://blogs.jpl.nasa.gov/\n",
      "https://www.jpl.nasa.gov/onthego/\n",
      "https://www.jpl.nasa.gov/social/\n",
      "http://jplwater.nasa.gov/\n",
      "http://www.hq.nasa.gov/office/pao/FOIA/agency/\n",
      "http://www.nasa.gov/\n",
      "http://www.caltech.edu/\n",
      "https://www.jpl.nasa.gov/privacy\n",
      "https://www.jpl.nasa.gov/imagepolicy\n",
      "https://www.jpl.nasa.gov/faq.php\n",
      "https://www.jpl.nasa.gov/contact_JPL.php\n",
      "None\n",
      "None\n",
      "None\n",
      "None\n",
      "None\n",
      "https://www.addthis.com/website-tools/overview?utm_source=AddThis%20Tools&utm_medium=image\n"
     ]
    }
   ],
   "source": [
    "html = browser.html\n",
    "soup = bs(html, 'html.parser')\n",
    "\n",
    "#relative_image_path = browser.find_by_id(\"href\")\n",
    "#relative_image_path = soup.find('figure', class_='lede')\n",
    "#relative_image_path = soup.find_all('a')\n",
    "#relative_image_path = browser.find_by_id(\"href\")\n",
    "result = browser.find_by_tag(\"a\")\n",
    "\n",
    "for i in result:\n",
    "    print(i[\"href\"])"
   ]
  },
  {
   "cell_type": "code",
   "execution_count": 5,
   "metadata": {},
   "outputs": [
    {
     "data": {
      "text/plain": [
       "'https://www.jpl.nasa.gov/spaceimages/images/largesize/PIA09178_hires.jpg'"
      ]
     },
     "execution_count": 5,
     "metadata": {},
     "output_type": "execute_result"
    }
   ],
   "source": [
    "relative_image_path = result[58][\"href\"]\n",
    "relative_image_path"
   ]
  },
  {
   "cell_type": "code",
   "execution_count": 6,
   "metadata": {},
   "outputs": [
    {
     "data": {
      "text/plain": [
       "['\\n', '', '', '', 'Comets Kick up Dust in Helix Nebula', '', '', '  ']"
      ]
     },
     "execution_count": 6,
     "metadata": {},
     "output_type": "execute_result"
    }
   ],
   "source": [
    "relative_image_title = soup.find('h1', class_='article_title')\n",
    "relative_image_title = relative_image_title.get_text()\n",
    "relative_image_title = relative_image_title.split('\\t')\n",
    "relative_image_title"
   ]
  },
  {
   "cell_type": "code",
   "execution_count": 7,
   "metadata": {},
   "outputs": [
    {
     "data": {
      "text/plain": [
       "'Comets Kick up Dust in Helix Nebula'"
      ]
     },
     "execution_count": 7,
     "metadata": {},
     "output_type": "execute_result"
    }
   ],
   "source": [
    "relative_image_title[4]"
   ]
  },
  {
   "cell_type": "code",
   "execution_count": null,
   "metadata": {},
   "outputs": [],
   "source": []
  }
 ],
 "metadata": {
  "kernelspec": {
   "display_name": "Python 3",
   "language": "python",
   "name": "python3"
  },
  "language_info": {
   "codemirror_mode": {
    "name": "ipython",
    "version": 3
   },
   "file_extension": ".py",
   "mimetype": "text/x-python",
   "name": "python",
   "nbconvert_exporter": "python",
   "pygments_lexer": "ipython3",
   "version": "3.7.3"
  }
 },
 "nbformat": 4,
 "nbformat_minor": 2
}
