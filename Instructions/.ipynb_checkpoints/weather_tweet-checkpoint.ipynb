{
 "cells": [
  {
   "cell_type": "code",
   "execution_count": 1,
   "metadata": {},
   "outputs": [],
   "source": [
    "import pandas as pd\n",
    "import pymongo\n",
    "from bs4 import BeautifulSoup as bs\n",
    "import requests\n",
    "from splinter import Browser\n",
    "\n",
    "# define a placeholder for final dictionary to pass into mars_app.py\n",
    "mars_dict = {}"
   ]
  },
  {
   "cell_type": "code",
   "execution_count": 2,
   "metadata": {},
   "outputs": [],
   "source": [
    "# function to get headlines, paragraphs, not images\n",
    "def scraping_func(url):\n",
    "    # Path to chromedriver\n",
    "    executable_path = {'executable_path': 'chromedriver.exe'}\n",
    "    browser = Browser('chrome', **executable_path, headless=False)\n",
    "    \n",
    "    # Go to website\n",
    "    browser.visit(url)\n",
    "    browser.is_element_present_by_css(\"ul.item_list li.slide\", wait_time=1)    \n",
    "    \n",
    "    # Convert the browser html to a soup object and then quit the browser\n",
    "    html = browser.html\n",
    "    scrape_soup = bs(html, 'html.parser')\n",
    "\n",
    "    # Close the browser after scraping\n",
    "    browser.quit()\n",
    "    \n",
    "    #return scraped object\n",
    "    return scrape_soup"
   ]
  },
  {
   "cell_type": "code",
   "execution_count": 16,
   "metadata": {},
   "outputs": [
    {
     "data": {
      "text/plain": [
       "'InSight sol 261 (2019-08-21) low -102.4ºC (-152.4ºF) high -26.6ºC (-15.8ºF)\\nwinds from the SSE at 4.9 m/s (11.0 mph) gusting to 16.0 m/s (35.8 mph)\\npressure at 7.70 hPapic.twitter.com/MhPPOHJg3m'"
      ]
     },
     "execution_count": 16,
     "metadata": {},
     "output_type": "execute_result"
    }
   ],
   "source": [
    "### Mars Weather\n",
    "#* Visit the Mars Weather twitter account [here](https://twitter.com/marswxreport?lang=en) and \n",
    "# scrape the latest Mars weather tweet from the page. \n",
    "#Save the tweet text for the weather report as a variable called `mars_weather`\n",
    "\n",
    "# Set Website URL to scrape\n",
    "url = 'https://twitter.com/marswxreport?lang=en'\n",
    "\n",
    "# Call scrape function and pass in url\n",
    "scrape_soup = scraping_func(url)\n",
    "\n",
    "# Get latest weather tweet\n",
    "mars_weather_find = scrape_soup.find('p', class_='TweetTextSize TweetTextSize--normal js-tweet-text tweet-text')\n",
    "\n",
    "mars_weather = mars_weather_find.get_text()\n",
    "mars_weather"
   ]
  },
  {
   "cell_type": "code",
   "execution_count": 28,
   "metadata": {},
   "outputs": [
    {
     "data": {
      "text/plain": [
       "['InSight sol 261 (2019-08-21) low -102.4ºC (-152.4ºF) high -26.6ºC (-15.8ºF)',\n",
       " 'winds from the SSE at 4.9 m/s (11.0 mph) gusting to 16.0 m/s (35.8 mph)',\n",
       " 'pressure at 7.70 hPapic.twitter.com/MhPPOHJg3m']"
      ]
     },
     "execution_count": 28,
     "metadata": {},
     "output_type": "execute_result"
    }
   ],
   "source": [
    "#output = mars_weather.split('pic.twitter.com/MhPPOHJg3m')\n",
    "mars_weather_splits = mars_weather.split('\\n')\n",
    "mars_weather_splits"
   ]
  },
  {
   "cell_type": "code",
   "execution_count": 29,
   "metadata": {},
   "outputs": [
    {
     "data": {
      "text/plain": [
       "'pressure at 7.70 hPapic.twitter.com/MhPPOHJg3m'"
      ]
     },
     "execution_count": 29,
     "metadata": {},
     "output_type": "execute_result"
    }
   ],
   "source": [
    "mars_weather_splits[2]"
   ]
  },
  {
   "cell_type": "code",
   "execution_count": 31,
   "metadata": {},
   "outputs": [
    {
     "data": {
      "text/plain": [
       "'pressure at 7.70 hPa'"
      ]
     },
     "execution_count": 31,
     "metadata": {},
     "output_type": "execute_result"
    }
   ],
   "source": [
    "temp = mars_weather_splits[2].split('pic.twitter.com/MhPPOHJg3m')\n",
    "temp[0]"
   ]
  },
  {
   "cell_type": "code",
   "execution_count": 32,
   "metadata": {},
   "outputs": [],
   "source": [
    "del mars_weather_splits[2]\n",
    "mars_weather_splits.append(temp[0])"
   ]
  },
  {
   "cell_type": "code",
   "execution_count": 33,
   "metadata": {},
   "outputs": [
    {
     "data": {
      "text/plain": [
       "['InSight sol 261 (2019-08-21) low -102.4ºC (-152.4ºF) high -26.6ºC (-15.8ºF)',\n",
       " 'winds from the SSE at 4.9 m/s (11.0 mph) gusting to 16.0 m/s (35.8 mph)',\n",
       " 'pressure at 7.70 hPa']"
      ]
     },
     "execution_count": 33,
     "metadata": {},
     "output_type": "execute_result"
    }
   ],
   "source": [
    "mars_weather_splits"
   ]
  },
  {
   "cell_type": "code",
   "execution_count": 39,
   "metadata": {},
   "outputs": [
    {
     "data": {
      "text/plain": [
       "[{'weather': 'Temperature',\n",
       "  'value': 'InSight sol 261 (2019-08-21) low -102.4ºC (-152.4ºF) high -26.6ºC (-15.8ºF)'},\n",
       " {'weather': 'Wind',\n",
       "  'value': 'winds from the SSE at 4.9 m/s (11.0 mph) gusting to 16.0 m/s (35.8 mph)'},\n",
       " {'weather': 'Pressure', 'value': 'pressure at 7.70 hPa'}]"
      ]
     },
     "execution_count": 39,
     "metadata": {},
     "output_type": "execute_result"
    }
   ],
   "source": [
    "final_mars_weather = []\n",
    "temperature_list = ['Temperature', 'Wind', 'Pressure']\n",
    "for i in range(3):\n",
    "    mars_weather_splits_dict = {'weather': temperature_list[i], 'value': mars_weather_splits[i]}\n",
    "    final_mars_weather.append(mars_weather_splits_dict)\n",
    "\n",
    "final_mars_weather"
   ]
  },
  {
   "cell_type": "code",
   "execution_count": 35,
   "metadata": {},
   "outputs": [
    {
     "data": {
      "text/plain": [
       "'InSight sol 261 (2019-08-21) low -102.4ºC (-152.4ºF) high -26.6ºC (-15.8ºF)'"
      ]
     },
     "execution_count": 35,
     "metadata": {},
     "output_type": "execute_result"
    }
   ],
   "source": [
    "mars_weather_splits[0]"
   ]
  },
  {
   "cell_type": "code",
   "execution_count": null,
   "metadata": {},
   "outputs": [],
   "source": []
  }
 ],
 "metadata": {
  "kernelspec": {
   "display_name": "Python 3",
   "language": "python",
   "name": "python3"
  },
  "language_info": {
   "codemirror_mode": {
    "name": "ipython",
    "version": 3
   },
   "file_extension": ".py",
   "mimetype": "text/x-python",
   "name": "python",
   "nbconvert_exporter": "python",
   "pygments_lexer": "ipython3",
   "version": "3.7.3"
  }
 },
 "nbformat": 4,
 "nbformat_minor": 2
}
