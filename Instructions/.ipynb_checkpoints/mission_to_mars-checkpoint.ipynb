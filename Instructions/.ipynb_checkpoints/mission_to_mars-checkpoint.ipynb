{
 "cells": [
  {
   "cell_type": "code",
   "execution_count": 1,
   "metadata": {},
   "outputs": [],
   "source": [
    "import pandas as pd\n",
    "import pymongo\n",
    "from bs4 import BeautifulSoup as bs\n",
    "import requests\n",
    "from splinter import Browser\n",
    "\n",
    "# define a placeholder for saved variables\n",
    "mars_dict = {}"
   ]
  },
  {
   "cell_type": "code",
   "execution_count": 2,
   "metadata": {},
   "outputs": [],
   "source": [
    "def scraping_func(url):\n",
    "    # Path to chromedriver\n",
    "    executable_path = {'executable_path': 'chromedriver.exe'}\n",
    "    browser = Browser('chrome', **executable_path, headless=False)\n",
    "    \n",
    "    # Go to website\n",
    "    browser.visit(url)\n",
    "    browser.is_element_present_by_css(\"ul.item_list li.slide\", wait_time=1)\n",
    "    \n",
    "    # Convert the browser html to a soup object and then quit the browser\n",
    "    html = browser.html\n",
    "    scrape_soup = bs(html, 'html.parser')\n",
    "\n",
    "    # Close the browser after scraping\n",
    "    browser.quit()\n",
    "    \n",
    "    #return scraped object\n",
    "    return scrape_soup"
   ]
  },
  {
   "cell_type": "code",
   "execution_count": 3,
   "metadata": {},
   "outputs": [
    {
     "data": {
      "text/plain": [
       "\"Robotic Toolkit Added to NASA's Mars 2020 Rover\""
      ]
     },
     "execution_count": 3,
     "metadata": {},
     "output_type": "execute_result"
    }
   ],
   "source": [
    "### NASA Mars News\n",
    "# * Scrape the [NASA Mars News Site](https://mars.nasa.gov/news/) and collect the latest News Title and Paragraph Text. \n",
    "# Assign the text to variables that you can reference later.\n",
    "\n",
    "# Set Website URL to scrape\n",
    "url = 'https://mars.nasa.gov/news/'\n",
    "\n",
    "# Call scrape function and pass in url\n",
    "scrape_soup = scraping_func(url)\n",
    "\n",
    "# Get latest title\n",
    "news_title_find = scrape_soup.find('div', class_='content_title')\n",
    "\n",
    "# Get title from scrape\n",
    "news_title = news_title_find.get_text()\n",
    "news_title"
   ]
  },
  {
   "cell_type": "code",
   "execution_count": 4,
   "metadata": {},
   "outputs": [
    {
     "data": {
      "text/plain": [
       "\"The bit carousel, which lies at the heart of the rover's Sample Caching System, is now aboard NASA's newest rover. \""
      ]
     },
     "execution_count": 4,
     "metadata": {},
     "output_type": "execute_result"
    }
   ],
   "source": [
    "# Get latest title's paragraph\n",
    "news_p_find = scrape_soup.find('div', class_='article_teaser_body')\n",
    "news_p = news_p_find.get_text()\n",
    "news_p"
   ]
  },
  {
   "cell_type": "code",
   "execution_count": 5,
   "metadata": {},
   "outputs": [],
   "source": [
    "### JPL Mars Space Images - Featured Image\n",
    "#* Use splinter to navigate the site and find the image url for the current Featured Mars Image and \n",
    "# assign the url string to a variable called `featured_image_url`.\n",
    "\n",
    "# Set Website URL to scrape\n",
    "url = 'https://www.jpl.nasa.gov/spaceimages/?search=&category=Mars/'\n",
    "\n",
    "# Call scrape function and pass in url\n",
    "scrape_soup = scraping_func(url)\n",
    "\n",
    "# Get latest picture\n",
    "relative_image_path = scrape_soup.find_all('img')[3][\"src\"]"
   ]
  },
  {
   "cell_type": "code",
   "execution_count": 13,
   "metadata": {},
   "outputs": [
    {
     "data": {
      "text/plain": [
       "[<article alt=\"'Bathurst Inlet' Rock on Curiosity's Sol 54, Context View\" class=\"carousel_item\" style=\"background-image: url('/spaceimages/images/wallpaper/PIA14762-1920x1200.jpg');\">\n",
       " <div class=\"default floating_text_area ms-layer\">\n",
       " <h2 class=\"category_title\">\n",
       " </h2>\n",
       " <h2 class=\"brand_title\">\n",
       " \t\t\t\t  FEATURED IMAGE\n",
       " \t\t\t\t</h2>\n",
       " <h1 class=\"media_feature_title\">\n",
       " \t\t\t\t  'Bathurst Inlet' Rock on Curiosity's Sol 54, Context View\t\t\t\t</h1>\n",
       " <div class=\"description\">\n",
       " </div>\n",
       " <footer>\n",
       " <a class=\"button fancybox\" data-description=\"Curiosity held its MAHLI camera about 10 inches away from the top of a rock called 'Bathurst Inlet' for a set of eight images combined into this merged-focus view of the rock.\" data-fancybox-group=\"images\" data-fancybox-href=\"/spaceimages/images/mediumsize/PIA14762_ip.jpg\" data-link=\"/spaceimages/details.php?id=PIA14762\" data-title=\"'Bathurst Inlet' Rock on Curiosity's Sol 54, Context View\" id=\"full_image\">\n",
       " \t\t\t\t\tFULL IMAGE\n",
       " \t\t\t\t  </a>\n",
       " </footer>\n",
       " </div>\n",
       " <div class=\"gradient_container_top\"></div>\n",
       " <div class=\"gradient_container_bottom\"></div>\n",
       " </article>]"
      ]
     },
     "execution_count": 13,
     "metadata": {},
     "output_type": "execute_result"
    }
   ],
   "source": [
    "relative_image_path = scrape_soup.find_all('article')\n",
    "relative_image_path"
   ]
  },
  {
   "cell_type": "code",
   "execution_count": 7,
   "metadata": {},
   "outputs": [
    {
     "ename": "TypeError",
     "evalue": "can only concatenate str (not \"ResultSet\") to str",
     "output_type": "error",
     "traceback": [
      "\u001b[1;31m---------------------------------------------------------------------------\u001b[0m",
      "\u001b[1;31mTypeError\u001b[0m                                 Traceback (most recent call last)",
      "\u001b[1;32m<ipython-input-7-21a1062b9fd8>\u001b[0m in \u001b[0;36m<module>\u001b[1;34m\u001b[0m\n\u001b[1;32m----> 1\u001b[1;33m \u001b[0mfeatured_image_url\u001b[0m \u001b[1;33m=\u001b[0m \u001b[0murl\u001b[0m \u001b[1;33m+\u001b[0m \u001b[0mrelative_image_path\u001b[0m\u001b[1;33m\u001b[0m\u001b[1;33m\u001b[0m\u001b[0m\n\u001b[0m\u001b[0;32m      2\u001b[0m \u001b[0mfeatured_image_url\u001b[0m\u001b[1;33m\u001b[0m\u001b[1;33m\u001b[0m\u001b[0m\n",
      "\u001b[1;31mTypeError\u001b[0m: can only concatenate str (not \"ResultSet\") to str"
     ]
    }
   ],
   "source": [
    "featured_image_url = url + relative_image_path\n",
    "featured_image_url"
   ]
  },
  {
   "cell_type": "code",
   "execution_count": null,
   "metadata": {},
   "outputs": [],
   "source": [
    "### Mars Weather\n",
    "#* Visit the Mars Weather twitter account [here](https://twitter.com/marswxreport?lang=en) and \n",
    "# scrape the latest Mars weather tweet from the page. \n",
    "#Save the tweet text for the weather report as a variable called `mars_weather`\n",
    "\n",
    "# Set Website URL to scrape\n",
    "url = 'https://twitter.com/marswxreport?lang=en'\n",
    "\n",
    "# Call scrape function and pass in url\n",
    "scrape_soup = scraping_func(url)\n",
    "\n",
    "# Get latest weather tweet\n",
    "mars_weather_find = scrape_soup.find('p', class_='TweetTextSize TweetTextSize--normal js-tweet-text tweet-text')\n",
    "\n",
    "mars_weather = mars_weather_find.get_text()\n",
    "mars_weather"
   ]
  },
  {
   "cell_type": "code",
   "execution_count": null,
   "metadata": {},
   "outputs": [],
   "source": [
    "### Mars Facts\n",
    "#* Visit the Mars Facts webpage [here](https://space-facts.com/mars/) and \n",
    "#use Pandas to scrape the table containing facts about the planet including Diameter, Mass, etc.\n",
    "#* Use Pandas to convert the data to a HTML table string.\n",
    "\n",
    "# Set Website URL to scrape\n",
    "url = 'https://space-facts.com/mars/'\n",
    "\n",
    "tables = pd.read_html(url)\n",
    "comp_table = tables[0]\n",
    "comp_table"
   ]
  },
  {
   "cell_type": "code",
   "execution_count": null,
   "metadata": {},
   "outputs": [],
   "source": [
    "mars_earth_comp_df = tables[0]\n",
    "mars_earth_comp_df.columns = ['Mars-Earth Comparison', 'Mars', 'Earth']\n",
    "mars_earth_comp_df"
   ]
  },
  {
   "cell_type": "code",
   "execution_count": null,
   "metadata": {},
   "outputs": [],
   "source": [
    "mars_comparison = []\n",
    "dict_temp = {}\n",
    "for i in range(len(mars_earth_comp_df)):\n",
    "    for j in range(1):\n",
    "        dict_temp = {\"description\": mars_earth_comp_df.iloc[i][j], \"mars\": mars_earth_comp_df.iloc[i][j+1], \n",
    "                    \"earth\": mars_earth_comp_df.iloc[i][j+2]}\n",
    "        mars_comparison.append(dict_temp)\n",
    "mars_comparison"
   ]
  },
  {
   "cell_type": "code",
   "execution_count": null,
   "metadata": {
    "scrolled": true
   },
   "outputs": [],
   "source": [
    "mars_planet_profile_df = tables[1]\n",
    "mars_planet_profile_df.columns = ['Mars Planet Profile', 'Measurement']\n",
    "mars_planet_profile_df"
   ]
  },
  {
   "cell_type": "code",
   "execution_count": null,
   "metadata": {},
   "outputs": [],
   "source": [
    "mars_profile = []\n",
    "dict_temp = {}\n",
    "for i in range(len(mars_planet_profile_df)):\n",
    "    for j in range(1):\n",
    "        dict_temp = {\"description\":mars_planet_profile_df.iloc[i][j], \"value\": mars_planet_profile_df.iloc[i][j+1]}\n",
    "        mars_profile.append(dict_temp)\n",
    "mars_profile"
   ]
  },
  {
   "cell_type": "code",
   "execution_count": null,
   "metadata": {},
   "outputs": [],
   "source": [
    "#* Visit the USGS Astrogeology site [here](https://astrogeology.usgs.gov/search/results?q=hemisphere+enhanced&k1=target&v1=Mars) \n",
    "#to obtain high resolution images for each of Mar's hemispheres.\n",
    "#* You will need to click each of the links to the hemispheres in order to find the image url to the full resolution image.\n",
    "#* Save both the image url string for the full resolution hemisphere image, and the Hemisphere title containing \n",
    "#the hemisphere name. Use a Python dictionary to store the data using the keys `img_url` and `title`.\n",
    "#* Append the dictionary with the image url string and the hemisphere title to a list. \n",
    "# This list will contain one dictionary for each hemisphere.\n",
    "\n",
    "# Set Website URL to scrape\n",
    "url = 'https://astrogeology.usgs.gov'\n",
    "\n",
    "# Call scrape function and pass in url\n",
    "scrape_soup = scraping_func(url)\n",
    "\n",
    "# Get latest weather tweet\n",
    "hemisphere_image_find = scrape_soup.find_all('img', class_='wide-image')\n",
    "\n",
    "#hemisphere_image = hemisphere_image_find.get_text()\n",
    "#hemisphere_image\n",
    "\n",
    "hemisphere_image_urls = [\n",
    "    {\"title\": \"Valles Marineris Hemisphere\", \"img_url\": \"/cache/images/7cf2da4bf549ed01c17f206327be4db7_valles_marineris_enhanced.tif_full.jpg\"},\n",
    "    {\"title\": \"Cerberus Hemisphere\", \"img_url\": \"/cache/images/cfa62af2557222a02478f1fcd781d445_cerberus_enhanced.tif_full.jpg\"},\n",
    "    {\"title\": \"Schiaparelli Hemisphere\", \"img_url\": \"/cache/images/3cdd1cbf5e0813bba925c9030d13b62e_schiaparelli_enhanced.tif_full.jpg\"},\n",
    "    {\"title\": \"Syrtis Major Hemisphere\", \"img_url\": \"/cache/images/ae209b4e408bb6c3e67b6af38168cf28_syrtis_major_enhanced.tif_full.jpg\"},\n",
    "]"
   ]
  },
  {
   "cell_type": "code",
   "execution_count": null,
   "metadata": {},
   "outputs": [],
   "source": [
    "hemisphere_image_find "
   ]
  },
  {
   "cell_type": "code",
   "execution_count": null,
   "metadata": {},
   "outputs": [],
   "source": [
    "mars_dict[\"mars_title\"] = news_title\n",
    "mars_dict[\"mars_news\"] = news_p\n",
    "mars_dict[\"mars_image\"] = featured_image_url\n",
    "mars_dict[\"mars_currentweather\"] = mars_weather\n",
    "mars_dict[\"mars_comparison\"] = mars_comparison\n",
    "mars_dict[\"mars_profile\"] = mars_profile\n",
    "mars_dict[\"mars_image_urls\"] = hemisphere_image_urls\n",
    "\n",
    "mars_dict"
   ]
  },
  {
   "cell_type": "code",
   "execution_count": null,
   "metadata": {},
   "outputs": [],
   "source": [
    "mars_dict['mars_profile']"
   ]
  },
  {
   "cell_type": "code",
   "execution_count": null,
   "metadata": {},
   "outputs": [],
   "source": []
  }
 ],
 "metadata": {
  "kernelspec": {
   "display_name": "Python 3",
   "language": "python",
   "name": "python3"
  },
  "language_info": {
   "codemirror_mode": {
    "name": "ipython",
    "version": 3
   },
   "file_extension": ".py",
   "mimetype": "text/x-python",
   "name": "python",
   "nbconvert_exporter": "python",
   "pygments_lexer": "ipython3",
   "version": "3.7.3"
  }
 },
 "nbformat": 4,
 "nbformat_minor": 2
}
